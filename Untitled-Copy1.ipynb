{
 "cells": [
  {
   "cell_type": "code",
   "execution_count": 23,
   "id": "9e58f6ee",
   "metadata": {},
   "outputs": [
    {
     "name": "stdout",
     "output_type": "stream",
     "text": [
      "enter hours\n",
      "7\n",
      "enter min\n",
      "21\n",
      "enter secs\n",
      "37\n",
      "Total secs= 1717\n"
     ]
    }
   ],
   "source": [
    "print('enter hours')\n",
    "h=input()\n",
    "print('enter min')\n",
    "m=input()\n",
    "print('enter secs')\n",
    "s=input()\n",
    "print(\"Total secs=\",(int(h)*60+int(m)*60+int(s)*1))\n",
    "\n"
   ]
  },
  {
   "cell_type": "code",
   "execution_count": 24,
   "id": "c30a23fc",
   "metadata": {},
   "outputs": [
    {
     "name": "stdout",
     "output_type": "stream",
     "text": [
      "10\n",
      "5\n",
      "perimeter is = 30 inches\n"
     ]
    }
   ],
   "source": [
    "l=input()\n",
    "h=input()\n",
    "print('perimeter is =', 2*int(l)+2*int(h), \"inches\") "
   ]
  },
  {
   "cell_type": "code",
   "execution_count": 1,
   "id": "aa6f5343",
   "metadata": {},
   "outputs": [
    {
     "name": "stdout",
     "output_type": "stream",
     "text": [
      "future val= 1967.1513572895665\n"
     ]
    }
   ],
   "source": [
    "print ('future val=',1000*1.07**10)\n"
   ]
  },
  {
   "cell_type": "code",
   "execution_count": 2,
   "id": "98c27b8a",
   "metadata": {
    "scrolled": true
   },
   "outputs": [
    {
     "name": "stdout",
     "output_type": "stream",
     "text": [
      "76\n",
      "Albert Einstein was  76 years old\n"
     ]
    }
   ],
   "source": [
    "age=input()\n",
    "print('Albert Einstein was ', int(age), \"years old\")"
   ]
  },
  {
   "cell_type": "code",
   "execution_count": 25,
   "id": "a99b058f",
   "metadata": {},
   "outputs": [
    {
     "name": "stdout",
     "output_type": "stream",
     "text": [
      "2 2 5 6\n",
      "the distance between ( 2 2 )and ( 5 6 )  is = 5.0\n"
     ]
    }
   ],
   "source": [
    "#input  x1,y1,x2,y2\n",
    "x1,y1,x2,y2=input().split()\n",
    "d=((int(x1)-int(x2))**2+(int(y1)-int(y2))**2)**0.5\n",
    "print(\"the distance between (\", x1, y1,\")\" \"and (\",x2,y2,\")  is =\" , d)\n"
   ]
  },
  {
   "cell_type": "code",
   "execution_count": 22,
   "id": "ca89d751",
   "metadata": {},
   "outputs": [
    {
     "name": "stdout",
     "output_type": "stream",
     "text": [
      " enter your name, age, fvorite ice cream , favorite movie \n",
      "ten 10 rep rip\n",
      "Hi ten ,\n",
      "\n",
      "Lets go to the shop and get some rep .\n",
      "\n",
      "Afterwards let's go watch the  rip movie. Did you say your are 10 ?Wow, Iam 10 too!\n"
     ]
    }
   ],
   "source": [
    "\n",
    "print(\" enter your name, age, fvorite ice cream , favorite movie \")\n",
    "name,age, favorite_ice_cream,favorite_movie=input() .split()\n",
    "print(\"Hi\", name, \",\\n\")\n",
    "print(\"Lets go to the shop and get some\", favorite_ice_cream,\".\" \"\\n\")\n",
    "print(\"Afterwards let's go watch the \", favorite_movie,\"movie. Did you say your are\", age,\"?\" \"Wow, Iam\", age,\"too!\")"
   ]
  }
 ],
 "metadata": {
  "kernelspec": {
   "display_name": "Python 3 (ipykernel)",
   "language": "python",
   "name": "python3"
  },
  "language_info": {
   "codemirror_mode": {
    "name": "ipython",
    "version": 3
   },
   "file_extension": ".py",
   "mimetype": "text/x-python",
   "name": "python",
   "nbconvert_exporter": "python",
   "pygments_lexer": "ipython3",
   "version": "3.9.12"
  }
 },
 "nbformat": 4,
 "nbformat_minor": 5
}
